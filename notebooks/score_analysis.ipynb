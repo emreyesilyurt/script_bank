{
 "cells": [
  {
   "cell_type": "markdown",
   "metadata": {},
   "source": [
    "# Component Score Analysis\\n",
    "\\n",
    "This notebook analyzes the distribution and effectiveness of component priority scores."
   ]
  },
  {
   "cell_type": "code",
   "execution_count": null,
   "metadata": {},
   "outputs": [],
   "source": [
    "import pandas as pd\\n",
    "import numpy as np\\n",
    "import matplotlib.pyplot as plt\\n",
    "import seaborn as sns\\n",
    "from pathlib import Path\\n",
    "\\n",
    "# Setup\\n",
    "sns.set_style('whitegrid')\\n",
    "plt.rcParams['figure.figsize'] = (10, 6)"
   ]
  },
  {
   "cell_type": "code",
   "execution_count": null,
   "metadata": {},
   "outputs": [],
   "source": [
    "# Load scored data\\n",
    "scores_df = pd.read_csv('../data/output/component_scores_latest.csv')\\n",
    "print(f\"Loaded {len(scores_df)} components\")\\n",
    "scores_df.head()"
   ]
  },
  {
   "cell_type": "markdown",
   "metadata": {},
   "source": [
    "## Score Distribution Analysis"
   ]
  },
  {
   "cell_type": "code",
   "execution_count": null,
   "metadata": {},
   "outputs": [],
   "source": [
    "# Score distribution\\n",
    "fig, axes = plt.subplots(1, 2, figsize=(15, 5))\\n",
    "\\n",
    "# Histogram\\n",
    "axes[0].hist(scores_df['priority_score'], bins=50, edgecolor='black')\\n",
    "axes[0].set_xlabel('Priority Score')\\n",
    "axes[0].set_ylabel('Count')\\n",
    "axes[0].set_title('Distribution of Priority Scores')\\n",
    "\\n",
    "# Box plot by source type\\n",
    "scores_df.boxplot(column='priority_score', by='source_type', ax=axes[1])\\n",
    "axes[1].set_title('Priority Score by Source Type')\\n",
    "\\n",
    "plt.tight_layout()\\n",
    "plt.show()\\n",
    "\\n",
    "# Summary statistics\\n",
    "print(\"Score Statistics:\")\\n",
    "print(scores_df['priority_score'].describe())"
   ]
  },
  {
   "cell_type": "markdown",
   "metadata": {},
   "source": [
    "## Feature Correlation Analysis"
   ]
  },
  {
   "cell_type": "code",
   "execution_count": null,
   "metadata": {},
   "outputs": [],
   "source": [
    "# Correlation with priority score\\n",
    "feature_cols = ['inventory', 'leadtime_weeks', 'first_price', 'moq', \\n",
    "                'demand_all_time', 'availability_score', 'is_authorized']\\n",
    "\\n",
    "correlations = scores_df[feature_cols + ['priority_score']].corr()['priority_score'].drop('priority_score')\\n",
    "\\n",
    "# Plot correlations\\n",
    "plt.figure(figsize=(8, 6))\\n",
    "correlations.sort_values().plot(kind='barh')\\n",
    "plt.xlabel('Correlation with Priority Score')\\n",
    "plt.title('Feature Correlations')\\n",
    "plt.axvline(x=0, color='black', linestyle='-', linewidth=0.5)\\n",
    "plt.tight_layout()\\n",
    "plt.show()"
   ]
  },
  {
   "cell_type": "markdown",
   "metadata": {},
   "source": [
    "## Top Scored Components"
   ]
  },
  {
   "cell_type": "code",
   "execution_count": null,
   "metadata": {},
   "outputs": [],
   "source": [
    "# Top 10 components\\n",
    "top_10 = scores_df.nlargest(10, 'priority_score')[\\n",
    "    ['pn', 'desc', 'priority_score', 'inventory', 'leadtime_weeks', 'first_price', 'demand_all_time']\\n",
    "]\\n",
    "\\n",
    "print(\"Top 10 Scored Components:\")\\n",
    "display(top_10)"
   ]
  },
  {
   "cell_type": "markdown",
   "metadata": {},
   "source": [
    "## Score Validation"
   ]
  },
  {
   "cell_type": "code",
   "execution_count": null,
   "metadata": {},
   "outputs": [],
   "source": [
    "# Check score criteria\\n",
    "print(\"Score Validation:\")\\n",
    "print(f\"Components with score = 0: {(scores_df['priority_score'] == 0).sum()}\")\\n",
    "print(f\"Components with score > 90: {(scores_df['priority_score'] > 90).sum()}\")\\n",
    "print(f\"Score range: {scores_df['priority_score'].min():.2f} - {scores_df['priority_score'].max():.2f}\")\\n",
    "\\n",
    "# Verify unavailable items have score 0\\n",
    "unavailable = scores_df[(scores_df['inventory'] == 0) & (scores_df['leadtime_weeks'] > 12)]\\n",
    "print(f\"\\nUnavailable items with score > 0: {(unavailable['priority_score'] > 0).sum()} (should be 0)\")"
   ]
  },
  {
   "cell_type": "markdown",
   "metadata": {},
   "source": [
    "## Business Impact Analysis"
   ]
  },
  {
   "cell_type": "code",
   "execution_count": null,
   "metadata": {},
   "outputs": [],
   "source": [
    "# Decile analysis\\n",
    "scores_df['score_decile'] = pd.qcut(scores_df['priority_score'], 10, labels=False, duplicates='drop')\\n",
    "\\n",
    "decile_stats = scores_df.groupby('score_decile').agg({\\n",
    "    'priority_score': ['min', 'max', 'mean'],\\n",
    "    'inventory': 'mean',\\n",
    "    'leadtime_weeks': 'mean',\\n",
    "    'first_price': 'mean',\\n",
    "    'demand_all_time': 'mean'\\n",
    "}).round(2)\\n",
    "\\n",
    "print(\"Statistics by Score Decile:\")\\n",
    "display(decile_stats)"
   ]
  }
 ],
 "metadata": {
  "kernelspec": {
   "display_name": "Python 3",
   "language": "python",
   "name": "python3"
  },
  "language_info": {
   "codemirror_mode": {
    "name": "ipython",
    "version": 3
   },
   "file_extension": ".py",
   "mimetype": "text/x-python",
   "name": "python",
   "nbconvert_exporter": "python",
   "pygments_lexer": "ipython3",
   "version": "3.8.0"
  }
 },
 "nbformat": 4,
 "nbformat_minor": 4
}